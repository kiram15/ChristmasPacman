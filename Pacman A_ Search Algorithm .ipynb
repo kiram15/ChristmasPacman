{
 "cells": [
  {
   "cell_type": "markdown",
   "metadata": {},
   "source": [
    "# Pacman A* Search"
   ]
  },
  {
   "cell_type": "markdown",
   "metadata": {},
   "source": [
    "*by Kira Miller and Amber Nolte, December 8th, 2018*"
   ]
  },
  {
   "cell_type": "markdown",
   "metadata": {},
   "source": [
    "This journal inlcudes an analysis of the history of the A\\* Search Algorithm, the current uses of it, and the predicted future of the algorithm. It also includes an initial implementation of the Pacman game using the A\\* Search alogrithm. "
   ]
  },
  {
   "cell_type": "markdown",
   "metadata": {},
   "source": [
    "## GUI Implementation"
   ]
  },
  {
   "cell_type": "markdown",
   "metadata": {},
   "source": [
    "In order to be able to see the results and progress of the Pacman game, a GUI was necessary to implement. Since no team members have experience with GUI implementations, we looked into already implemented GUIs that would be able to be incorporated into our project. The majority of Pacman GUI libraries were complicated and included lots of additional features that we did not need for this project. We ended up stumbling upon a Pacman GUI that was implemented in java using the Processing application. Processing is a software sketchbook that allows you to easily convert code into visual representations. The initial Pacman Processing implementation was a Pacman maze with 4 ghosts, and Pacman. Dots were displayed on the maze so Pacman could gather points and big dots were displayed in order to allow Pacman to eat the ghosts. We adjusted the GUI in order to change it to a Christmas themed Pacman game. Pacman became the Grinch by replacing the original Pacman circle with an image of the Grinch. Pacman/Grinch was still user controlled with the arrow keys. For each ghost, a similar process was executed where we replaced the various ghosts with different holiday characters (a reindeer, a snowman, an elf, and Santa). In addition to this, we implemented a counter that would cause the dots to blink between red and green colors every second. The maze was also adjusted by adding holiday decorations such as snowflakes and Christmas lights. When the game begins, a .wav file is uploaded into the project and plays Jingle Bells to acompany the Christmas GUI theme. All these changes involved learning the Processing functions, libraries, and various formats."
   ]
  },
  {
   "cell_type": "markdown",
   "metadata": {},
   "source": [
    "Below is a video of the Pacman game GUI that we had altered and successfully implemented. The functionality is due to the project source that we used as a base to build our GUI off of. "
   ]
  },
  {
   "cell_type": "code",
   "execution_count": 19,
   "metadata": {},
   "outputs": [
    {
     "data": {
      "text/html": [
       "<iframe width=\"560\" height=\"315\" src=\"https://www.youtube.com/embed/ny_8CkKDyds\" frameborder=\"0\" allow=\"accelerometer; autoplay; encrypted-media; gyroscope; picture-in-picture\" allowfullscreen></iframe>"
      ],
      "text/plain": [
       "<IPython.core.display.HTML object>"
      ]
     },
     "execution_count": 19,
     "metadata": {},
     "output_type": "execute_result"
    }
   ],
   "source": [
    "from IPython.display import HTML\n",
    "HTML('<iframe width=\"560\" height=\"315\" src=\"https://www.youtube.com/embed/ny_8CkKDyds\" frameborder=\"0\" allow=\"accelerometer; autoplay; encrypted-media; gyroscope; picture-in-picture\" allowfullscreen></iframe>')"
   ]
  },
  {
   "cell_type": "markdown",
   "metadata": {},
   "source": [
    "After successfully implementing the GUI, we began to look at how to incorporate the GUI code with the A\\* search implementation. The project that we used in order to get a base GUI working used vectors, paths, nodes, and other classes that implemented the functionality of Pacman. The structure we planned for our backend implementation included a Pacman class, ghost class, maze class, and run class. This target structure was extremely different than the already implemented version in Processing, and in order to incorporate them, the GUI would have to be rewritten which would be a big challenge given that neither of us have extensive experience with front end developement. Because of the extreme amount of changes we would have to make to the Processing GUI code, we ultimately decided to abandon the Processing implementation. Because of this, we left the GUI work that has been done so far in the past in order to focus on the A\\* portion of the project. This decision allowed us to implement the Pacman A\\* search with the structure we wanted without worrying about the effects our changes would have on the GUI."
   ]
  },
  {
   "cell_type": "markdown",
   "metadata": {},
   "source": [
    "## A* Search Implementation"
   ]
  },
  {
   "cell_type": "markdown",
   "metadata": {},
   "source": [
    "The Pacman implementation consists of four classes: Pacman.py, Ghost.py, Maze.py, Play.py. Initially in the project proposal we explored the idea of multithreading the project so each instance of Ghost.py would be a thread which would all represent various ghosts. However, after looking into it and planning the project structure, we decided to have one ghost. The ghost is what will be using A* search in order to find the most efficient path to Pacman's current location. In our implementation, Pacman is not user controlled and will focus on eating dots regardless of the location of the ghost. Pacman searches for the nearest dot and pursues it in order to get the most points possible."
   ]
  },
  {
   "cell_type": "markdown",
   "metadata": {},
   "source": [
    "Below is the implementation of the Play.py class which initiates the game and creates instances of the maze, Pacman, and the ghost. The majority of the code came from the A3 assignment including the Node class, aStarSearch method, the aStarSearchHelper method, and the runHelperAStar method. This implementation varies from A3 largely since A3 included start and end states, but in Pacman the start and end states are dynamic; the states are locations. The start state is the spawn location of the ghost, while the end state is not a state but a condition where the ghost location is equal to the Pacman location."
   ]
  },
  {
   "cell_type": "code",
   "execution_count": 33,
   "metadata": {},
   "outputs": [],
   "source": [
    "import time\n",
    "\n",
    "class Node:\n",
    "    def __init__(self, state, f=0, g=0, h=0):\n",
    "        self.state = state\n",
    "        self.f = f\n",
    "        self.g = g\n",
    "        self.h = h\n",
    "\n",
    "    def __repr__(self):\n",
    "        return \"Node(\" + repr(self.state) + \", f=\" + repr(self.f) + \\\n",
    "               \", g=\" + repr(self.g) + \", h=\" + repr(self.h) + \")\"\n",
    "\n",
    "def aStarSearch(startState, actionsF, takeActionF, goalTestF, hF):\n",
    "    h = hF(startState)\n",
    "    startNode = Node(state=startState, f=0 + h, g=0, h=h)\n",
    "    return aStarSearchHelper(startNode, actionsF, takeActionF, goalTestF, hF, float('inf'))\n",
    "\n",
    "def aStarSearchHelper(parentNode, actionsF, takeActionF, goalTestF, hF, fmax):\n",
    "    if goalTestF(parentNode.state):\n",
    "        return ([parentNode.state], parentNode.g)\n",
    "    ## Construct list of children nodes with f, g, and h values\n",
    "    actions = actionsF(parentNode.state)\n",
    "    if not actions:\n",
    "        return (\"failure\", float('inf'))\n",
    "    children = []\n",
    "    for action in actions:\n",
    "        (childState, stepCost) = takeActionF(parentNode.state, action)\n",
    "        global gNumNodes\n",
    "        gNumNodes += 1\n",
    "        h = hF(childState)\n",
    "        g = parentNode.g + stepCost\n",
    "        f = max(h + g, parentNode.f)\n",
    "        childNode = Node(state=childState, f=f, g=g, h=h)\n",
    "        children.append(childNode)\n",
    "    while True:\n",
    "        # find best child\n",
    "        children.sort(key=lambda n: n.f)  # sort by f value\n",
    "        bestChild = children[0]\n",
    "        if bestChild.f > fmax:\n",
    "            return (\"failure\", bestChild.f)\n",
    "        # next lowest f value\n",
    "        alternativef = children[1].f if len(children) > 1 else float('inf')\n",
    "        # expand best child, reassign its f value to be returned value\n",
    "        result, bestChild.f = aStarSearchHelper(bestChild, actionsF, takeActionF, goalTestF,\n",
    "                                                hF, min(fmax, alternativef))\n",
    "        if result is not \"failure\":\n",
    "            result.insert(0, parentNode.state)\n",
    "            return (result, bestChild.f)\n",
    "\n",
    "def runHelperAStar(startState, goalState, heuristic):\n",
    "    startTime = time.time()\n",
    "    global gNumNodes\n",
    "    gNumNodes = 0\n",
    "    if heuristic is 1:\n",
    "        h1Path, h1Depth = aStarSearch(startState, Santa.actions, Santa.takeAction, lambda s: Santa.goalTest(s),\n",
    "                                      lambda s: h1(s, goalState))\n",
    "        endTime = time.time()\n",
    "        return h1Depth, gNumNodes, endTime - startTime\n",
    "    elif heuristic is 2:\n",
    "        h2Path, h2Depth = aStarSearch(startState, Santa.actions, Santa.takeAction, lambda s: Santa.goalTest(s),\n",
    "                                      lambda s: h2(s, goalState))\n",
    "        endTime = time.time()\n",
    "        return h2Depth, gNumNodes, endTime - startTime\n",
    "    else:\n",
    "        h3Path, h3Depth = aStarSearch(startState, Santa.actions, Santa.takeAction, lambda s: Santa.goalTest(s),\n",
    "                                      lambda s: h3(s, goalState))\n",
    "        endTime = time.time()\n",
    "        return h3Depth, gNumNodes, endTime - startTime\n",
    "\n",
    "def h1(state, goal):\n",
    "    return 0\n",
    "\n",
    "def h2(state, goal):\n",
    "    return 1\n",
    "\n",
    "def h3(state, goal):\n",
    "    return manhattanDistance(state, goal)\n",
    "\n",
    "def manhattanDistance(state, goal):\n",
    "    return abs(state[0] - goal[0]) + abs(state[1] - goal[1])\n",
    "\n",
    "if __name__ == \"__main__\":\n",
    "    board = [['X', 'X', 'X', 'X', 'X', 'X', 'X'],\n",
    "             ['X', ' ', '.', '.', '.', 'G', 'X'],\n",
    "             ['X', '.', 'X', 'X', 'X', '.', 'X'],\n",
    "             ['X', ' ', ' ', '.', ' ', ' ', 'X'],\n",
    "             ['X', '.', 'X', 'X', 'X', '.', 'X'],\n",
    "             ['X', 'S', '.', '.', '.', ' ', 'X'],\n",
    "             ['X', 'X', 'X', 'X', 'X', 'X', 'X']]"
   ]
  },
  {
   "cell_type": "markdown",
   "metadata": {},
   "source": [
    "Below is the Dot and Maze classes. The Dot class just holds the coordinates and location of each instance of the class (each dot on the maze has its own dot class instance). The Maze class keeps track of the state of the maze. It has 7 class variables: maze keeps track of the current 'state' of the maze, ghost is the location of the ghost, pacman is the location of pacman, dotlist keeps track of the dots on the map and whether they have been eaten by pacman or not, height and length are the measurements of the maze, and remaining dots counts the number of dots in the maze. When makeMove is called by Ghost.py or Pacman.py, it updates the maze for the game. ghostMove() allows the ghost to move around the maze without eating dots. When a ghost is 'standing' on a dot, the ghost 'G' will be shown. Then, when the ghost moves from that spot the '.' is regenerated since dots cannot be eaten by ghosts. pacmanMove() updates the dotList as well as decrements the number of dots in the maze as pacman moves around and eats the dots."
   ]
  },
  {
   "cell_type": "code",
   "execution_count": 31,
   "metadata": {},
   "outputs": [],
   "source": [
    "import copy\n",
    "\n",
    "class Dot:\n",
    "    def __init__(self, x, y):\n",
    "        self.location = x, y\n",
    "\n",
    "    def location(self):\n",
    "        return self.location\n",
    "\n",
    "class Maze:\n",
    "    def __init__(self, ogMaze):\n",
    "        self.maze = copy.deepcopy(ogMaze)\n",
    "        self.ghost = (1,5)\n",
    "        self.pacman = (5,1)\n",
    "        self.dotList = self.createDotList(ogMaze)\n",
    "        self.height = 7\n",
    "        self.length = 7\n",
    "        self.remainingDots = 11\n",
    "\n",
    "    # even if the ghost moves over the dot, it needs to stay there\n",
    "    def createDotList(self, maze):\n",
    "        allDots = []\n",
    "        for x, a in enumerate(maze):\n",
    "            for y, b in enumerate(maze[x]):\n",
    "                if b is '.':\n",
    "                    allDots.append(Dot(x, y))\n",
    "                if b is ' ':\n",
    "                    allDots.append(Dot(x, y))\n",
    "        return allDots\n",
    "\n",
    "    def makeMove(self, past, x, y):\n",
    "        if isinstance(past, Santa.Ghost):\n",
    "            Maze.ghostMove(self, past, x, y)\n",
    "        if isinstance(past, Grinch.Pacman):\n",
    "            Maze.pacmanMove(self, past, x, y)\n",
    "\n",
    "    def ghostMove(self, past, futureX, futureY):\n",
    "        pastX = past.location[0]\n",
    "        pastY = past.location[1]\n",
    "        # if the ghost is going over a dot, it's stored so that the\n",
    "        # dot can be restored after the ghost moves out of that spot\n",
    "        self.maze[pastX][pastY] = 'S'\n",
    "        if past.coveringDot:\n",
    "            self.maze[pastX][pastY] = '.'\n",
    "            past.onDot = False\n",
    "        elif self.maze[futureX][futureY] is '.':\n",
    "            self.maze[pastX][pastY] = ' '\n",
    "            past.coveringDot = True\n",
    "            past.location = pastX, pastY\n",
    "        else:\n",
    "            self.maze[pastX][pastY] = ' '\n",
    "        past.location = pastX, pastY\n",
    "\n",
    "    def pacmanMove(self, past, futureX, futureY):\n",
    "        pastX = past.location[0]\n",
    "        pastY = past.location[1]\n",
    "        self.maze[pastX][pastY] = 'G'\n",
    "        self.maze[pastX][pastY] = ' '\n",
    "        past.location = futureX, futureY\n",
    "        # if he ate a dot\n",
    "        if self.maze[pastX][pastY] is '.':\n",
    "            self.remainingDots -= self.remainingDots\n",
    "            for dot in self.dotList:\n",
    "                if dot.location[0] == pastX and dot.location[1] == pastY:\n",
    "                    self.dotList.remove(dot)"
   ]
  },
  {
   "cell_type": "markdown",
   "metadata": {},
   "source": [
    "The Ghost.py class below implements the helper functions that used by the A\\* search algorithm. Ghost.py has 3 class variables: location which keeps an updated tuple of the coordinates of the ghost, a boolean coveringDot, and an instance of the current state of the maze. A simple getter for the location variable is implemented so it can be accessed by Play.py in order to see what the current location of the ghost is. In addition to this, actions() has a list of walls since the ghost cannot run into walls, and anything that is not a wall (right, left, up, down) is returned as a list of possible actions. takeAction() calls the makeMove() method in maze that updates the maze with the new position of the ghost. goalTest() compares if the goal has been reached, and since there is no fixed goal state, it simply checks to see if the ghost location is the same as the pacman location, and if so the ghost has caught pacman and the game is over. The last function getPacmanLocation() is a helper method used by goalTest() to search the current state of the maze for pacman's most recent location."
   ]
  },
  {
   "cell_type": "code",
   "execution_count": 35,
   "metadata": {},
   "outputs": [],
   "source": [
    "class Ghost:\n",
    "    def __init__(self, Maze):\n",
    "        self.location = (1,5)\n",
    "        self.coveringDot = False\n",
    "        self.maze = Maze\n",
    "\n",
    "    def getLocation(self):\n",
    "        return self.location\n",
    "\n",
    "    def actions(self):\n",
    "        walls = [(0, 0), (0, 1), (0, 2), (0, 3), (0, 4), (0, 5), (0, 6),\n",
    "                 (1, 0), (2, 0), (3, 0), (4, 0), (5, 0), (6, 0),\n",
    "                 (6, 1), (6, 2), (6, 3), (6, 4), (6, 5), (6, 6),\n",
    "                 (1, 6), (2, 6), (3, 6), (4, 6), (5, 6),\n",
    "                 (2, 2), (3, 2), (4, 2),\n",
    "                 (2, 4), (3, 4), (4, 4)]\n",
    "        validActions = []\n",
    "        currentLocation = self.location\n",
    "        right = (currentLocation[0] + 1, currentLocation[1])\n",
    "        left = (currentLocation[0] - 1, currentLocation[1])\n",
    "        up = (currentLocation[0], currentLocation[1] + 1)\n",
    "        down = (currentLocation[0], currentLocation[1] - 1)\n",
    "        if right not in walls:\n",
    "            validActions.append(\"right\")\n",
    "        if left not in walls:\n",
    "            validActions.append(\"left\")\n",
    "        if up not in walls:\n",
    "            validActions.append(\"up\")\n",
    "        if down not in walls:\n",
    "            validActions.append(\"down\")\n",
    "        return validActions\n",
    "\n",
    "    def takeAction(self, action):\n",
    "        tLocation = self.location\n",
    "        newLocation = ()\n",
    "        if action == \"right\":\n",
    "            newLocation = (tLocation[0]+1, tLocation[1])\n",
    "        elif action == \"left\":\n",
    "            newLocation = (tLocation[0]-1, tLocation[1])\n",
    "        elif action == \"up\":\n",
    "            newLocation = (tLocation[0], tLocation[1]+1)\n",
    "        elif action == \"down\":\n",
    "            newLocation = (tLocation[0], tLocation[1]-1)\n",
    "        self.maze.makeMove(self, newLocation[0], newLocation[1])\n",
    "        self.location = newLocation\n",
    "\n",
    "    def goalTest(self):\n",
    "        if Ghost.getPacmanLocation(self) == self.location:\n",
    "            return True\n",
    "        return False\n",
    "\n",
    "    def getPacmanLocation(self):\n",
    "        myMaze = self.maze.maze\n",
    "        pacmanCoordinates = ()\n",
    "        for r in range(len(myMaze)):\n",
    "            for el in range(len(myMaze[0])):\n",
    "                if myMaze[r][el] == \"G\":\n",
    "                    pacmanCoordinates = (r, el)\n",
    "        return pacmanCoordinates\n"
   ]
  },
  {
   "cell_type": "markdown",
   "metadata": {},
   "source": [
    "The Pacman.py class is implemented below and has 2 class variables: location which keeps an updated location of Pacman, as well an an instance of the current state of the maze. Like Ghost.py, there is a getLocation() to allow Play.py to quickly get the most recent location of Pacman. actions() has the same implementation as ghost by allowing all actions that do not run Pacman into a wall. takeAction() is similar to the Ghost.py implementation except that it will call makeMove() and therefore pacmanMove() in maze which will allow Pacman to eat dots and remove the eaten dots from the maze. The takeShortest() method finds the closest dot to Pacman's current location which tells Pacman which direction he should move in. It first gets all the possible actions based off of pacman's current location,  then for each of those possible actions it calculates the distance from that action to the nearest dot. It does this comparison in testAction() where the tested action is taken and the the distance from that new location to the nearest dot is found. testAction() returns the smallest distance (the distance to the closest dot after the possible action is tested) for the given action. After getting the smallest distance from a dot for any of the actions, the action picked depends on which action led to the shortest path to the nearest dot."
   ]
  },
  {
   "cell_type": "code",
   "execution_count": 34,
   "metadata": {},
   "outputs": [],
   "source": [
    "class Pacman:\n",
    "    def __init__(self, Maze):\n",
    "        self.location = (5,1)\n",
    "        self.maze = Maze\n",
    "\n",
    "    def getLocation(self):\n",
    "        return self.location\n",
    "\n",
    "    def actions(self):\n",
    "        walls = [(0,0),(0,1),(0,2),(0,3),(0,4),(0,5),(0,6),\n",
    "                 (1,0),(2,0),(3,0),(4,0),(5,0),(6,0),\n",
    "                 (6,1),(6,2),(6,3),(6,4),(6,5),(6,6),\n",
    "                 (1,6),(2,6),(3,6),(4,6),(5,6),\n",
    "                 (2,2),(3,2),(4,2),\n",
    "                 (2,4),(3,4),(4,4)]\n",
    "        validActions = []\n",
    "        currentLocation = self.location\n",
    "        right = (currentLocation[0] + 1, currentLocation[1])\n",
    "        left = (currentLocation[0] - 1, currentLocation[1])\n",
    "        up = (currentLocation[0], currentLocation[1] + 1)\n",
    "        down = (currentLocation[0], currentLocation[1] - 1)\n",
    "        if right not in walls:\n",
    "            validActions.append(\"right\")\n",
    "        if left not in walls:\n",
    "            validActions.append(\"left\")\n",
    "        if up not in walls:\n",
    "            validActions.append(\"up\")\n",
    "        if down not in walls:\n",
    "            validActions.append(\"down\")\n",
    "        return validActions\n",
    "\n",
    "    def takeAction(self, action):\n",
    "        tLocation = self.location\n",
    "        newLocation = ()\n",
    "        if action == \"right\":\n",
    "            newLocation = (tLocation[0] + 1, tLocation[1])\n",
    "        elif action == \"left\":\n",
    "            newLocation = (tLocation[0] - 1, tLocation[1])\n",
    "        elif action == \"up\":\n",
    "            newLocation = (tLocation[0], tLocation[1] + 1)\n",
    "        elif action == \"down\":\n",
    "            newLocation = (tLocation[0], tLocation[1] - 1)\n",
    "        self.maze.makeMove(self, newLocation[0], newLocation[1])\n",
    "        self.location = newLocation\n",
    "\n",
    "    def takeShortest(self, maze):\n",
    "        possibleActions = Pacman.actions(self)\n",
    "        shortestDistance = 100\n",
    "        bestAction = \"\"\n",
    "        for a in possibleActions:\n",
    "            tempDistance = Pacman.testAction(self, a, maze) #distance to closest dot\n",
    "            if shortestDistance > tempDistance:\n",
    "                shortestDistance = tempDistance\n",
    "                bestAction = a\n",
    "        Pacman.takeAction(self, bestAction)\n",
    "\n",
    "    def testAction(self, action, maze): #specified action, which dot is closest\n",
    "        tempLocation = self.location\n",
    "        if action == \"right\":\n",
    "            newX = tempLocation[0] + 1\n",
    "            tempLocation = (newX, tempLocation[1])\n",
    "        elif action == \"left\":\n",
    "            newX = tempLocation[0] - 1\n",
    "            tempLocation = (newX, tempLocation[1])\n",
    "        elif action == \"up\":\n",
    "            newY = tempLocation[1] + 1\n",
    "            tempLocation = (tempLocation[0], newY)\n",
    "        elif action == \"down\":\n",
    "            newY = tempLocation[1] - 1\n",
    "            tempLocation = (tempLocation[0], newY)\n",
    "        allDots = Pacman.getDots(maze)\n",
    "        minDistance = 100\n",
    "        for d in allDots:\n",
    "            testDistance = Pacman.distance(self, tempLocation, d)\n",
    "            if testDistance < minDistance:\n",
    "                minDistance = testDistance\n",
    "        return minDistance\n",
    "\n",
    "    def getDots(self):\n",
    "        myMaze = self.maze.maze\n",
    "        dotLocations = []\n",
    "        for r in range(len(myMaze)):\n",
    "            for el in range(len(myMaze[0])):\n",
    "                if myMaze[r][el] == '.':\n",
    "                    dotLocations.append((r, el))\n",
    "        return dotLocations\n",
    "\n",
    "    def distance(self, l1, l2):\n",
    "        return abs(l1[0] - l2[0]) + abs(l1[1] - l2[1])"
   ]
  },
  {
   "cell_type": "markdown",
   "metadata": {},
   "source": [
    "## Methods"
   ]
  },
  {
   "cell_type": "markdown",
   "metadata": {},
   "source": [
    "The main resource used was for the initial GUI demonstrated in the YouTube link above. The link to the github we used for that GUI portion is https://github.com/Code-Bullet/PacmanGame/blob/master/PacmanGame/PacmanGame.pde\n",
    "\n",
    "Although we ended up not using the Processing application or the GUI from it, we learned a lot about the Processing app and how frontend programming connects, communicates, and interacts with backend processes.\n",
    "\n",
    "Kira Miller wrote the implementations for Play.py and Maze.py. In addition to this, Kira also did the research below for A\\* search and current reasearch and applications for this AI algorithm.\n",
    "\n",
    "Amber Nolte implemented the Christmas Pacman GUI using the Processing application. In addition to this, she wrote the Ghost.py and Pacman.py classes as well as the summary of every class and the summary of the original GUI process and implementation. The methods, results, and conclusion was also written by Amber."
   ]
  },
  {
   "cell_type": "markdown",
   "metadata": {},
   "source": [
    "## Results"
   ]
  },
  {
   "attachments": {},
   "cell_type": "markdown",
   "metadata": {},
   "source": [
    "The results of this study were inconclusive as we were not able to get the full functionality of the A\\* search Pacman program. The various heuristic functions would change the outcome of the algorithm, although analyzing this change would be difficult. In the original GUI impementation, Pacman was user-controlled using the arrow keys. Because of this, changing the heuristic functions may not cause drastic or even accurate changes to the results since having a user controlled portion of the game causes too many variables. For example, as the uesr plays the game repetitively with each heuristic, they become better at the game and come up with strategies to avoid the ghosts. In order to make the project more objective and leave less to human error, Pacman would ideally not be user controlled and also use the A\\* search algorithm. Instead of searching for something like the ghosts are, Pacman would be avoiding the ghosts and perhaps searching for dots as well. This would also need to incorporate a priority hierarchy if it comes down to getting a dot versus going towards a ghost. With big dots that allow Pacman to eat ghosts, he would potentially pick the big dot over running into a ghost, but choose to run away from a ghost if only a small dot must be sacrificed."
   ]
  },
  {
   "cell_type": "markdown",
   "metadata": {},
   "source": [
    "## Conclusions"
   ]
  },
  {
   "cell_type": "markdown",
   "metadata": {},
   "source": [
    "From this project, we gained experience with front end programming and how the front end GUI connects to the back end implementation. In addition to this, we learned how to apply A\\* search to locations instead of states. This change from A3 taught us to compare dynamic goal states instead of constant states. The object oriented structure challenged our python coding experience as our heavily object oriented projects in the past have been implemented with java. A few different portions of this project were challenging such as the GUI, planning the structure of the implementation, and combining both the GUI and the implementation. The GUI as stated before was a challenge given that neither of us had experience with front end programming, but altering an existing GUI helped make the transition easier. Once we decided how we wanted to structure our classes, we realized the GUI that had been implemented would be difficult to merge with the new A\\* search implementation. Due to this, we unfortunately could not use the GUI that Amber had been assigned to work on and finished, and we had to start from scratch. The backend portion was then written in python since we no longer needed to use java to support the GUI. Due to this, the timeline had to change. The GUI was finished but unfortunately the backend code had not been cosidered or planned so it caused a clash between the GUI and the A\\* search implementation. The challenge of having multiple classes and moving parts between them caused some issues with the Play.py class, so the game does is not fully implemented. The greatest challenge of this project was all the parts of the maze that needed to be updated as the game progressed. The ghost and Pacman classes both need to have up-to-date instances of the maze, as well as the maze having the current location of the ghost and Pacman throughout the game."
   ]
  },
  {
   "cell_type": "markdown",
   "metadata": {},
   "source": [
    "## Research"
   ]
  },
  {
   "cell_type": "markdown",
   "metadata": {},
   "source": [
    "### References"
   ]
  },
  {
   "cell_type": "markdown",
   "metadata": {},
   "source": [
    "* [Goodfellow, et al., 2016] Ian Goodfellow and Yoshua Bengio and Aaron Courville, [Deep Learning](http://www.deeplearningbook.org), MIT Press. 2014."
   ]
  },
  {
   "cell_type": "markdown",
   "metadata": {
    "collapsed": true
   },
   "source": [
    "Your report for a single person team should contain approximately 2,000 to 4,000 words, in markdown cells.  You can count words by running the following python code in your report directory.  Projects with two people should contain 4,000 to 8,000 words in their reports. Three-person teams should produce reports with 6,000 to 12,000 words, and so on."
   ]
  },
  {
   "cell_type": "markdown",
   "metadata": {},
   "source": [
    "Do not forget to include the following code cell at the bottom of your report."
   ]
  },
  {
   "cell_type": "code",
   "execution_count": 7,
   "metadata": {},
   "outputs": [
    {
     "name": "stdout",
     "output_type": "stream",
     "text": [
      "Word count for file Pacman A* Search Algorithm .ipynb is 328\n"
     ]
    }
   ],
   "source": [
    "import io\n",
    "from IPython.nbformat import current\n",
    "import glob\n",
    "nbfile = glob.glob('Pacman A* Search Algorithm .ipynb')\n",
    "if len(nbfile) > 1:\n",
    "    print('More than one ipynb file. Using the first one.  nbfile=', nbfile)\n",
    "with io.open(nbfile[0], 'r', encoding='utf-8') as f:\n",
    "    nb = current.read(f, 'json')\n",
    "word_count = 0\n",
    "for cell in nb.worksheets[0].cells:\n",
    "    if cell.cell_type == \"markdown\":\n",
    "        word_count += len(cell['source'].replace('#', '').lstrip().split(' '))\n",
    "print('Word count for file', nbfile[0], 'is', word_count)"
   ]
  },
  {
   "cell_type": "markdown",
   "metadata": {},
   "source": [
    "When you check-in your project, you may tar or zip your files together and submit the .tar or .zip file."
   ]
  },
  {
   "cell_type": "code",
   "execution_count": null,
   "metadata": {},
   "outputs": [],
   "source": []
  }
 ],
 "metadata": {
  "kernelspec": {
   "display_name": "Python 3",
   "language": "python",
   "name": "python3"
  },
  "language_info": {
   "codemirror_mode": {
    "name": "ipython",
    "version": 3
   },
   "file_extension": ".py",
   "mimetype": "text/x-python",
   "name": "python",
   "nbconvert_exporter": "python",
   "pygments_lexer": "ipython3",
   "version": "3.6.5"
  }
 },
 "nbformat": 4,
 "nbformat_minor": 1
}
