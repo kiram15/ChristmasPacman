{
 "cells": [
  {
   "cell_type": "markdown",
   "metadata": {},
   "source": [
    "# Pacman A* Search"
   ]
  },
  {
   "cell_type": "markdown",
   "metadata": {},
   "source": [
    "*by Kira Miller and Amber Nolte, December 8th, 2018*"
   ]
  },
  {
   "cell_type": "markdown",
   "metadata": {},
   "source": [
    "This journal inlcudes an analysis of the history of the A\\* Search Algorithm, the current uses of it, and the predicted future of the algorithm. It also includes an initial implementation of the Pacman game using the A\\* Search alogrithm. "
   ]
  },
  {
   "cell_type": "markdown",
   "metadata": {},
   "source": [
    "# Introduction"
   ]
  },
  {
   "cell_type": "markdown",
   "metadata": {},
   "source": [
    "For our CS 440 Final Project, our team utilized one of the many algorithms that we learned in class throughout this semester to implement the classic arcade game of Pacman. After doing some initial research into popular artificial intelligence programs, we beleived that Pacman could be an interesting project, especially since we enjoyed the idea of having a finished game to play at the end of the project.\n",
    "\n",
    "We chose to implement Pacman using the A* algorithm because due to its use of states and moves, it has the potential to be applied to multiple platforms such as problem solving or games. We wanted our final project to not only use the knowledge that we have gained through this course, but also build on that knowledge to push ourselves to not only implement things we were comfortable with, but push ourselves to see how much we could accomplish. This is why we attemped an implementation that involved both a GUI and the functionality of the ghosts. \n",
    "\n",
    "Over the course of the last few weeks, we have worked diligently to implement a game of Pacman with these algorithms. Below, we discuss our research that we have conducted on the past, present, and future of the A* algorithm, our implementation for the framework of the project, and some problems that we ran into along the way that unfortunately hindered our final product. "
   ]
  },
  {
   "cell_type": "markdown",
   "metadata": {},
   "source": [
    "# Table of Contents\n",
    "* **[Research](#Research)**\n",
    "* **[A* Algorithm Overview](#A*-Algorithm-Overview)**\n",
    "* **[GUI Implementation](#GUI-Implementation)**\n",
    "* **[A* Search Implementation](#A*-Search-Implementation)**\n",
    "* **[Methods](#Methods)**\n",
    "* **[Results](#Results)**\n",
    "* **[Conclusions](#Conclusions)**\n",
    "* **[References](#References)**"
   ]
  },
  {
   "cell_type": "markdown",
   "metadata": {},
   "source": [
    "# Research"
   ]
  },
  {
   "cell_type": "markdown",
   "metadata": {},
   "source": [
    "<b><font size=\"4\">The Past</font></b>\n",
    "\n",
    "<b>Dijkstra Algorithm</b>\n",
    "\n",
    "The true origination of notion of a shortest path is divorced from computer science, and is a much more primitive topic. From animals gathering food or moving as a group, this method of finding the most efficient path is almost instinctual for some species. However, in the realm of computer science, the origination of A* search stemmed from one of the most famous algorithms known to computer science. The algorithm was published by Edsger W. Dijkstra in 1959, long before computers were commonplace to have. In fact, Dijkstra is credited as the Netherlands first programmer for his work that he started in 1952, and went on to receive his PhD from the University of Amsterdam. Dijkstra's work was primarily focused on graph algorithms, concurrent algorithms, and distributed algorithms. He can be credited as one of the people who truly shaped the disciple of computer science.\n",
    "\n",
    "Dijkstra's algorithm at its most basic is how one find the least cost graphs in a given path. The graph itself is required to have edges that are all non-negative values. Starting at a vertex, the algorithm examines the edges that can be visited, and assigns them a value that is the expense from the starting node. Then the graph picks the edge with the least cost, and then visits this node until there are no unvisited nodes remaining.\n",
    "\n",
    "One thing that is integral with path-finding algorithms is the three cases that it must be able to handle within the algorithm. In the most common case, and optimal solution exists in the graph. However, there might also be a case where no optimal solution exists. This can be for two reasons; either there are no feasible solutions, or the cost from the original vertex to vertex n is unbounded from below.\n",
    "\n",
    "<b>A* Algorithm</b>\n",
    "\n",
    "While Dijkstra's algorithm was integral as a foundation for shortest path, it is not a heuristic function. It's greedy approach functions without gaining any kind of knowledge as it progresses. To remedy this, computer scientists needed a better solution for path-finding and graph traversal that guides the search. The A* search algorithm was first published by Peter Hart, Nils Nilsson and Bertram Raphael from Stanford Research Institute during their work on the Shaky Project. The aim of this project was to design a robot that could plan its own actions. \n",
    "\n",
    "A\\* addresses some of the problems found in the original Dijkstra's algorithm. The biggest issue is the fact that Dijkstra, indubitably, will follow the path that is currently shortest, without paying any mind to what direction it is going. In layman's terms, A\\* is accounting not only for the distance from the starting value, but also how far there is left to traverse. The algorithm prioritizes nodes that are continuing in the right direction towards the goal using it's unique heuristic capabilities which separates it from other convential algorithms.  \n",
    "\n",
    "It accomplishes this by storing a sorted priority queue that contains alternative edges, which are then replaced if a lower-cost path segment is found instead. More specifically, at every step, the algorithm picks the node according to a value 'f' that is calculated from the sum of 'g' and 'h'. Considering a path graph with multiple nodes and all edges are non-negative, at each step, it picks the lowest f, and then goes to traverse that node. g(n) is equal to the cost of the path to the start node n, and h(n) is the heuristic funtion that estimates the cheapest path from the current node n to the target node. \n",
    "\n",
    "The effectiveness of A* does depend on the admissible heuristic function that is is employing. In an effort to not mislead the search, it must be as near to the true remaining cost as possible.\n",
    "\n",
    "\n",
    "<b><font size=\"4\">The Present</font></b>\n",
    "\n",
    "A\\* search has many real life applications. It is fairly flexible and can be used in a wide range of contexts. Many games and web based maps use the A\\* search algorithm to plot the best and most effective course to take. For example, below is a gif of the A* search algorithm plotting the shortest course from Washington D.C. to Los Angeles. The edges are the railroads and the distance is calculated from the great-circle distance, or the shortest possible distance on a sphere."
   ]
  },
  {
   "cell_type": "markdown",
   "metadata": {},
   "source": [
    "![alt text](https://upload.wikimedia.org/wikipedia/commons/6/60/A%2A_Search_Example_on_North_American_Freight_Train_Network.gif \"Title Text 1\")"
   ]
  },
  {
   "cell_type": "markdown",
   "metadata": {},
   "source": [
    "<font size=\"1\">Gif Credit: https://upload.wikimedia.org/wikipedia/commons/6/60/A%2A_Search_Example_on_North_American_Freight_Train_Network.gif</font>\n"
   ]
  },
  {
   "cell_type": "markdown",
   "metadata": {},
   "source": [
    "Christopher D. Manning and Dan Klein from the Stanford University Computer Science department published a paper in 2003 that details another creative use of the A\\* search algorithm. They extended the classic A\\* search to use for PCFG (probabilistic context-free grammar) parsing algorithms. In the worst case scenarios, most of the previously used parsing algorithms had a worst-case cubic time bound, which can be incredibly expensive with wide-coverage grammars and long sentences. In the published paper, Manning and Klein state that the A\\* search is \"guaranteed to find the most likely parse, not just an approximation.\" (Klein) The search is also much more easy to implement than an \"upward-propagating best-first parser,\" making it the ideal solution for this implementation. With this new approach the professors also concluded that it did less work per edge, and processed less than 3% of the edges than an exhastive parser would need to. (Klein)\n",
    "\n",
    "The A\\* Search algorithm can also be used in the field of bioinfomatics. A multiple sequence alignment (MSA) is a sequence alignment of \"three or more biological sequences, generally protein, DNA, or RNA.\" (Kelly) MSA can be used for a multitude of different applications, such as phylogenetic tree estimation and structure prediction. In a paper published by Ken Kelly and Paul Labute from the Chemical computing group, they presented an altered version of the traditional dynamic A\\* search algorithm and how the new application which more correctly scores gap initiation. (Kelly) Because of the adaptable nature of the algorithm itself, it can be applied to many different fields and problems. \n",
    "\n",
    "<b><font size=\"4\">The Future</font></b>\n",
    "\n",
    "One of the biggest issues that can be found with A\\* search is the fact that, as a result of the nature of the algorithm, it consumes a large amount of memory to keep the data of the nodes that are being currently processed. Frankly, admissible search is expensive. Another problem is the fact that other travel-routing systems can easily outpreform the classic A\\* search algorithm when they are given the oppurtunity to pre-proccess the graph. The future of the A\\* algorithm depends on which research A\\* can be applied to, and how the researchers will extend it to specifically cater to the work that they are trying to accomplish. From shorrtest path to decision making, A\\* will continue to be improved upon because of the flexibility the algorithm offers. \n",
    "\n"
   ]
  },
  {
   "cell_type": "markdown",
   "metadata": {},
   "source": [
    "# GUI Implementation"
   ]
  },
  {
   "cell_type": "markdown",
   "metadata": {},
   "source": [
    "In order to be able to see the results and progress of the Pacman game, a GUI was necessary to implement. Since no team members have experience with GUI implementations, we looked into already implemented GUIs that would be able to be incorporated into our project. The majority of Pacman GUI libraries were complicated and included lots of additional features that we did not need for this project. We ended up stumbling upon a Pacman GUI that was implemented in java using the Processing application. Processing is a software sketchbook that allows you to easily convert code into visual representations. The initial Pacman Processing implementation was a Pacman maze with 4 ghosts, and Pacman. Dots were displayed on the maze so Pacman could gather points and big dots were displayed in order to allow Pacman to eat the ghosts. We adjusted the GUI in order to change it to a Christmas themed Pacman game. Pacman became the Grinch by replacing the original Pacman circle with an image of the Grinch. Pacman/Grinch was still user controlled with the arrow keys. For each ghost, a similar process was executed where we replaced the various ghosts with different holiday characters (a reindeer, a snowman, an elf, and Santa). In addition to this, we implemented a counter that would cause the dots to blink between red and green colors every second. The maze was also adjusted by adding holiday decorations such as snowflakes and Christmas lights. When the game begins, a .wav file is uploaded into the project and plays Jingle Bells to acompany the Christmas GUI theme. All these changes involved learning the Processing functions, libraries, and various formats."
   ]
  },
  {
   "cell_type": "markdown",
   "metadata": {},
   "source": [
    "Below is a video of the Pacman game GUI that we had altered and successfully implemented. The functionality is due to the project source that we used as a base to build our GUI off of. "
   ]
  },
  {
   "cell_type": "code",
   "execution_count": 18,
   "metadata": {},
   "outputs": [
    {
     "data": {
      "text/html": [
       "<iframe width=\"560\" height=\"315\" src=\"https://www.youtube.com/embed/ny_8CkKDyds\" frameborder=\"0\" allow=\"accelerometer; autoplay; encrypted-media; gyroscope; picture-in-picture\" allowfullscreen></iframe>"
      ],
      "text/plain": [
       "<IPython.core.display.HTML object>"
      ]
     },
     "execution_count": 18,
     "metadata": {},
     "output_type": "execute_result"
    }
   ],
   "source": [
    "from IPython.display import HTML\n",
    "HTML('<iframe width=\"560\" height=\"315\" src=\"https://www.youtube.com/embed/ny_8CkKDyds\" frameborder=\"0\" allow=\"accelerometer; autoplay; encrypted-media; gyroscope; picture-in-picture\" allowfullscreen></iframe>')"
   ]
  },
  {
   "cell_type": "markdown",
   "metadata": {},
   "source": [
    "After successfully implementing the GUI, we began to look at how to incorporate the GUI code with the A\\* search implementation. The project that we used in order to get a base GUI working used vectors, paths, nodes, and other classes that implemented the functionality of Pacman. The structure we planned for our backend implementation included a Pacman class, ghost class, maze class, and run class. This target structure was extremely different than the already implemented version in Processing, and in order to incorporate them, the GUI would have to be rewritten which would be a big challenge given that neither of us have extensive experience with front end development. Because of the extreme amount of changes we would have had to make to the Processing GUI code, we ultimately decided to abandon the Processing implementation. Because of this, we left the GUI work that has been done so far in the past in order to focus on the A\\* portion of the project. This decision allowed us to implement the Pacman A\\* search with the structure we wanted without worrying about the effects our changes would have on the GUI."
   ]
  },
  {
   "cell_type": "markdown",
   "metadata": {},
   "source": [
    "# A* Search Implementation"
   ]
  },
  {
   "cell_type": "markdown",
   "metadata": {},
   "source": [
    "The Pacman implementation consists of four classes: Pacman.py, Ghost.py, Maze.py, Play.py. Initially in the project proposal, we explored the idea of multithreading the project so each instance of Ghost.py would be a thread which would all represent various ghosts. However, after looking into it and planning the project structure, we decided to just have one ghost. The ghost is what will be using A* search in order to find the most efficient path to Pacman's current location. In our implementation, Pacman is not user controlled and will focus on eating dots regardless of the location of the ghost. Pacman searches for the nearest dot and pursues it in order to get the most points possible."
   ]
  },
  {
   "cell_type": "markdown",
   "metadata": {},
   "source": [
    "Below is the implementation of the Play.py class which initiates the game and creates instances of the maze, Pacman, and the ghost. The majority of the code came from the A3 assignment including the Node class, aStarSearch method, the aStarSearchHelper method, and the runHelperAStar method. This implementation varies from A3 largely since A3 included start and end states, but in Pacman the start and end states are dynamic; the states are locations. The start state is the spawn location of the ghost, while the end state is not a state but a condition where the ghost location is equal to the Pacman location."
   ]
  },
  {
   "cell_type": "code",
   "execution_count": 19,
   "metadata": {},
   "outputs": [],
   "source": [
    "import time\n",
    "\n",
    "class Node:\n",
    "    def __init__(self, state, f=0, g=0, h=0):\n",
    "        self.state = state\n",
    "        self.f = f\n",
    "        self.g = g\n",
    "        self.h = h\n",
    "\n",
    "    def __repr__(self):\n",
    "        return \"Node(\" + repr(self.state) + \", f=\" + repr(self.f) + \\\n",
    "               \", g=\" + repr(self.g) + \", h=\" + repr(self.h) + \")\"\n",
    "\n",
    "def aStarSearch(startState, actionsF, takeActionF, goalTestF, hF):\n",
    "    h = hF(startState)\n",
    "    startNode = Node(state=startState, f=0 + h, g=0, h=h)\n",
    "    return aStarSearchHelper(startNode, actionsF, takeActionF, goalTestF, hF, float('inf'))\n",
    "\n",
    "def aStarSearchHelper(parentNode, actionsF, takeActionF, goalTestF, hF, fmax):\n",
    "    if goalTestF(parentNode.state):\n",
    "        return ([parentNode.state], parentNode.g)\n",
    "    ## Construct list of children nodes with f, g, and h values\n",
    "    actions = actionsF(parentNode.state)\n",
    "    if not actions:\n",
    "        return (\"failure\", float('inf'))\n",
    "    children = []\n",
    "    for action in actions:\n",
    "        (childState, stepCost) = takeActionF(parentNode.state, action)\n",
    "        global gNumNodes\n",
    "        gNumNodes += 1\n",
    "        h = hF(childState)\n",
    "        g = parentNode.g + stepCost\n",
    "        f = max(h + g, parentNode.f)\n",
    "        childNode = Node(state=childState, f=f, g=g, h=h)\n",
    "        children.append(childNode)\n",
    "    while True:\n",
    "        # find best child\n",
    "        children.sort(key=lambda n: n.f)  # sort by f value\n",
    "        bestChild = children[0]\n",
    "        if bestChild.f > fmax:\n",
    "            return (\"failure\", bestChild.f)\n",
    "        # next lowest f value\n",
    "        alternativef = children[1].f if len(children) > 1 else float('inf')\n",
    "        # expand best child, reassign its f value to be returned value\n",
    "        result, bestChild.f = aStarSearchHelper(bestChild, actionsF, takeActionF, goalTestF,\n",
    "                                                hF, min(fmax, alternativef))\n",
    "        if result is not \"failure\":\n",
    "            result.insert(0, parentNode.state)\n",
    "            return (result, bestChild.f)\n",
    "\n",
    "def runHelperAStar(startState, goalState, heuristic):\n",
    "    startTime = time.time()\n",
    "    global gNumNodes\n",
    "    gNumNodes = 0\n",
    "    if heuristic is 1:\n",
    "        h1Path, h1Depth = aStarSearch(startState, Santa.actions, Santa.takeAction, lambda s: Santa.goalTest(s),\n",
    "                                      lambda s: h1(s, goalState))\n",
    "        endTime = time.time()\n",
    "        return h1Depth, gNumNodes, endTime - startTime\n",
    "    elif heuristic is 2:\n",
    "        h2Path, h2Depth = aStarSearch(startState, Santa.actions, Santa.takeAction, lambda s: Santa.goalTest(s),\n",
    "                                      lambda s: h2(s, goalState))\n",
    "        endTime = time.time()\n",
    "        return h2Depth, gNumNodes, endTime - startTime\n",
    "    else:\n",
    "        h3Path, h3Depth = aStarSearch(startState, Santa.actions, Santa.takeAction, lambda s: Santa.goalTest(s),\n",
    "                                      lambda s: h3(s, goalState))\n",
    "        endTime = time.time()\n",
    "        return h3Depth, gNumNodes, endTime - startTime\n",
    "\n",
    "def h1(state, goal):\n",
    "    return 0\n",
    "\n",
    "def h2(state, goal):\n",
    "    return 1\n",
    "\n",
    "def h3(state, goal):\n",
    "    return manhattanDistance(state, goal)\n",
    "\n",
    "def manhattanDistance(state, goal):\n",
    "    return abs(state[0] - goal[0]) + abs(state[1] - goal[1])\n",
    "\n",
    "if __name__ == \"__main__\":\n",
    "    board = [['X', 'X', 'X', 'X', 'X', 'X', 'X'],\n",
    "             ['X', ' ', '.', '.', '.', 'G', 'X'],\n",
    "             ['X', '.', 'X', 'X', 'X', '.', 'X'],\n",
    "             ['X', ' ', ' ', '.', ' ', ' ', 'X'],\n",
    "             ['X', '.', 'X', 'X', 'X', '.', 'X'],\n",
    "             ['X', 'S', '.', '.', '.', ' ', 'X'],\n",
    "             ['X', 'X', 'X', 'X', 'X', 'X', 'X']]"
   ]
  },
  {
   "cell_type": "markdown",
   "metadata": {},
   "source": [
    "Below is the Dot and Maze classes. The Dot class just holds the coordinates and location of each instance of the class (each dot on the maze has its own dot class instance). The Maze class keeps track of the state of the maze. It has 7 class variables: maze keeps track of the current 'state' of the maze, ghost is the location of the ghost, pacman is the location of pacman, dotlist keeps track of the dots on the map and whether they have been eaten by pacman or not, height and length are the measurements of the maze, and remaining dots counts the number of dots in the maze. When makeMove is called by Ghost.py or Pacman.py, it updates the maze for the game. ghostMove() allows the ghost to move around the maze without eating dots. When a ghost is 'standing' on a dot, the ghost 'G' will be shown. Then, when the ghost moves from that spot the '.' is regenerated since dots cannot be eaten by ghosts. pacmanMove() updates the dotList as well as decrements the number of dots in the maze as pacman moves around and eats the dots."
   ]
  },
  {
   "cell_type": "code",
   "execution_count": 20,
   "metadata": {},
   "outputs": [],
   "source": [
    "import copy\n",
    "\n",
    "class Dot:\n",
    "    def __init__(self, x, y):\n",
    "        self.location = x, y\n",
    "\n",
    "    def location(self):\n",
    "        return self.location\n",
    "\n",
    "class Maze:\n",
    "    def __init__(self, ogMaze):\n",
    "        self.maze = copy.deepcopy(ogMaze)\n",
    "        self.ghost = (1,5)\n",
    "        self.pacman = (5,1)\n",
    "        self.dotList = self.createDotList(ogMaze)\n",
    "        self.height = 7\n",
    "        self.length = 7\n",
    "        self.remainingDots = 11\n",
    "\n",
    "    # even if the ghost moves over the dot, it needs to stay there\n",
    "    def createDotList(self, maze):\n",
    "        allDots = []\n",
    "        for x, a in enumerate(maze):\n",
    "            for y, b in enumerate(maze[x]):\n",
    "                if b is '.':\n",
    "                    allDots.append(Dot(x, y))\n",
    "                if b is ' ':\n",
    "                    allDots.append(Dot(x, y))\n",
    "        return allDots\n",
    "\n",
    "    def makeMove(self, past, x, y):\n",
    "        if isinstance(past, Santa.Ghost):\n",
    "            Maze.ghostMove(self, past, x, y)\n",
    "        if isinstance(past, Grinch.Pacman):\n",
    "            Maze.pacmanMove(self, past, x, y)\n",
    "\n",
    "    def ghostMove(self, past, futureX, futureY):\n",
    "        pastX = past.location[0]\n",
    "        pastY = past.location[1]\n",
    "        # if the ghost is going over a dot, it's stored so that the\n",
    "        # dot can be restored after the ghost moves out of that spot\n",
    "        self.maze[pastX][pastY] = 'S'\n",
    "        if past.coveringDot:\n",
    "            self.maze[pastX][pastY] = '.'\n",
    "            past.onDot = False\n",
    "        elif self.maze[futureX][futureY] is '.':\n",
    "            self.maze[pastX][pastY] = ' '\n",
    "            past.coveringDot = True\n",
    "            past.location = pastX, pastY\n",
    "        else:\n",
    "            self.maze[pastX][pastY] = ' '\n",
    "        past.location = pastX, pastY\n",
    "\n",
    "    def pacmanMove(self, past, futureX, futureY):\n",
    "        pastX = past.location[0]\n",
    "        pastY = past.location[1]\n",
    "        self.maze[pastX][pastY] = 'G'\n",
    "        self.maze[pastX][pastY] = ' '\n",
    "        past.location = futureX, futureY\n",
    "        # if he ate a dot\n",
    "        if self.maze[pastX][pastY] is '.':\n",
    "            self.remainingDots -= self.remainingDots\n",
    "            for dot in self.dotList:\n",
    "                if dot.location[0] == pastX and dot.location[1] == pastY:\n",
    "                    self.dotList.remove(dot)"
   ]
  },
  {
   "cell_type": "markdown",
   "metadata": {},
   "source": [
    "The Ghost.py class below implements the helper functions that used by the A\\* search algorithm. Ghost.py has 3 class variables: location which keeps an updated tuple of the coordinates of the ghost, a boolean coveringDot, and an instance of the current state of the maze. A simple getter for the location variable is implemented so it can be accessed by Play.py in order to see what the current location of the ghost is. In addition to this, actions() has a list of walls since the ghost cannot run into walls, and anything that is not a wall (right, left, up, down) is returned as a list of possible actions. takeAction() calls the makeMove() method in maze that updates the maze with the new position of the ghost. goalTest() compares if the goal has been reached, and since there is no fixed goal state, it simply checks to see if the ghost location is the same as the pacman location, and if so the ghost has caught pacman and the game is over. The last function getPacmanLocation() is a helper method used by goalTest() to search the current state of the maze for pacman's most recent location."
   ]
  },
  {
   "cell_type": "code",
   "execution_count": 21,
   "metadata": {},
   "outputs": [],
   "source": [
    "class Ghost:\n",
    "    def __init__(self, Maze):\n",
    "        self.location = (1,5)\n",
    "        self.coveringDot = False\n",
    "        self.maze = Maze\n",
    "\n",
    "    def getLocation(self):\n",
    "        return self.location\n",
    "\n",
    "    def actions(self):\n",
    "        walls = [(0, 0), (0, 1), (0, 2), (0, 3), (0, 4), (0, 5), (0, 6),\n",
    "                 (1, 0), (2, 0), (3, 0), (4, 0), (5, 0), (6, 0),\n",
    "                 (6, 1), (6, 2), (6, 3), (6, 4), (6, 5), (6, 6),\n",
    "                 (1, 6), (2, 6), (3, 6), (4, 6), (5, 6),\n",
    "                 (2, 2), (3, 2), (4, 2),\n",
    "                 (2, 4), (3, 4), (4, 4)]\n",
    "        validActions = []\n",
    "        currentLocation = self.location\n",
    "        right = (currentLocation[0] + 1, currentLocation[1])\n",
    "        left = (currentLocation[0] - 1, currentLocation[1])\n",
    "        up = (currentLocation[0], currentLocation[1] + 1)\n",
    "        down = (currentLocation[0], currentLocation[1] - 1)\n",
    "        if right not in walls:\n",
    "            validActions.append(\"right\")\n",
    "        if left not in walls:\n",
    "            validActions.append(\"left\")\n",
    "        if up not in walls:\n",
    "            validActions.append(\"up\")\n",
    "        if down not in walls:\n",
    "            validActions.append(\"down\")\n",
    "        return validActions\n",
    "\n",
    "    def takeAction(self, action):\n",
    "        tLocation = self.location\n",
    "        newLocation = ()\n",
    "        if action == \"right\":\n",
    "            newLocation = (tLocation[0]+1, tLocation[1])\n",
    "        elif action == \"left\":\n",
    "            newLocation = (tLocation[0]-1, tLocation[1])\n",
    "        elif action == \"up\":\n",
    "            newLocation = (tLocation[0], tLocation[1]+1)\n",
    "        elif action == \"down\":\n",
    "            newLocation = (tLocation[0], tLocation[1]-1)\n",
    "        self.maze.makeMove(self, newLocation[0], newLocation[1])\n",
    "        self.location = newLocation\n",
    "\n",
    "    def goalTest(self):\n",
    "        if Ghost.getPacmanLocation(self) == self.location:\n",
    "            return True\n",
    "        return False\n",
    "\n",
    "    def getPacmanLocation(self):\n",
    "        myMaze = self.maze.maze\n",
    "        pacmanCoordinates = ()\n",
    "        for r in range(len(myMaze)):\n",
    "            for el in range(len(myMaze[0])):\n",
    "                if myMaze[r][el] == \"G\":\n",
    "                    pacmanCoordinates = (r, el)\n",
    "        return pacmanCoordinates\n"
   ]
  },
  {
   "cell_type": "markdown",
   "metadata": {},
   "source": [
    "The Pacman.py class is implemented below and has 2 class variables: location which keeps an updated location of Pacman, as well an an instance of the current state of the maze. Like Ghost.py, there is a getLocation() method to allow Play.py to quickly get the most recent location of Pacman. actions() has the same implementation as ghost by allowing all actions that do not run Pacman into a wall. The takeAction() method is similar to the Ghost.py implementation except that it will call makeMove() and therefore pacmanMove() in maze which will allow Pacman to eat dots and remove the eaten dots from the maze. The takeShortest() method finds the closest dot to Pacman's current location which tells Pacman which direction he should move in. It first gets all the possible actions based off of pacman's current location, then for each of those possible actions it calculates the distance from that action to the nearest dot. It does this comparison in testAction() where the tested action is taken and the the distance from that new location to the nearest dot is found. Then testAction() returns the smallest distance (the distance to the closest dot after the possible action is tested) for the given action. After getting the smallest distance from a dot for any of the actions, the action picked depends on which action led to the shortest path to the nearest dot."
   ]
  },
  {
   "cell_type": "code",
   "execution_count": 22,
   "metadata": {},
   "outputs": [],
   "source": [
    "class Pacman:\n",
    "    def __init__(self, Maze):\n",
    "        self.location = (5,1)\n",
    "        self.maze = Maze\n",
    "\n",
    "    def getLocation(self):\n",
    "        return self.location\n",
    "\n",
    "    def actions(self):\n",
    "        walls = [(0,0),(0,1),(0,2),(0,3),(0,4),(0,5),(0,6),\n",
    "                 (1,0),(2,0),(3,0),(4,0),(5,0),(6,0),\n",
    "                 (6,1),(6,2),(6,3),(6,4),(6,5),(6,6),\n",
    "                 (1,6),(2,6),(3,6),(4,6),(5,6),\n",
    "                 (2,2),(3,2),(4,2),\n",
    "                 (2,4),(3,4),(4,4)]\n",
    "        validActions = []\n",
    "        currentLocation = self.location\n",
    "        right = (currentLocation[0] + 1, currentLocation[1])\n",
    "        left = (currentLocation[0] - 1, currentLocation[1])\n",
    "        up = (currentLocation[0], currentLocation[1] + 1)\n",
    "        down = (currentLocation[0], currentLocation[1] - 1)\n",
    "        if right not in walls:\n",
    "            validActions.append(\"right\")\n",
    "        if left not in walls:\n",
    "            validActions.append(\"left\")\n",
    "        if up not in walls:\n",
    "            validActions.append(\"up\")\n",
    "        if down not in walls:\n",
    "            validActions.append(\"down\")\n",
    "        return validActions\n",
    "\n",
    "    def takeAction(self, action):\n",
    "        tLocation = self.location\n",
    "        newLocation = ()\n",
    "        if action == \"right\":\n",
    "            newLocation = (tLocation[0] + 1, tLocation[1])\n",
    "        elif action == \"left\":\n",
    "            newLocation = (tLocation[0] - 1, tLocation[1])\n",
    "        elif action == \"up\":\n",
    "            newLocation = (tLocation[0], tLocation[1] + 1)\n",
    "        elif action == \"down\":\n",
    "            newLocation = (tLocation[0], tLocation[1] - 1)\n",
    "        self.maze.makeMove(self, newLocation[0], newLocation[1])\n",
    "        self.location = newLocation\n",
    "\n",
    "    def takeShortest(self, maze):\n",
    "        possibleActions = Pacman.actions(self)\n",
    "        shortestDistance = 100\n",
    "        bestAction = \"\"\n",
    "        for a in possibleActions:\n",
    "            tempDistance = Pacman.testAction(self, a, maze) #distance to closest dot\n",
    "            if shortestDistance > tempDistance:\n",
    "                shortestDistance = tempDistance\n",
    "                bestAction = a\n",
    "        Pacman.takeAction(self, bestAction)\n",
    "\n",
    "    def testAction(self, action, maze): #specified action, which dot is closest\n",
    "        tempLocation = self.location\n",
    "        if action == \"right\":\n",
    "            newX = tempLocation[0] + 1\n",
    "            tempLocation = (newX, tempLocation[1])\n",
    "        elif action == \"left\":\n",
    "            newX = tempLocation[0] - 1\n",
    "            tempLocation = (newX, tempLocation[1])\n",
    "        elif action == \"up\":\n",
    "            newY = tempLocation[1] + 1\n",
    "            tempLocation = (tempLocation[0], newY)\n",
    "        elif action == \"down\":\n",
    "            newY = tempLocation[1] - 1\n",
    "            tempLocation = (tempLocation[0], newY)\n",
    "        allDots = Pacman.getDots(maze)\n",
    "        minDistance = 100\n",
    "        for d in allDots:\n",
    "            testDistance = Pacman.distance(self, tempLocation, d)\n",
    "            if testDistance < minDistance:\n",
    "                minDistance = testDistance\n",
    "        return minDistance\n",
    "\n",
    "    def getDots(self):\n",
    "        myMaze = self.maze.maze\n",
    "        dotLocations = []\n",
    "        for r in range(len(myMaze)):\n",
    "            for el in range(len(myMaze[0])):\n",
    "                if myMaze[r][el] == '.':\n",
    "                    dotLocations.append((r, el))\n",
    "        return dotLocations\n",
    "\n",
    "    def distance(self, l1, l2):\n",
    "        return abs(l1[0] - l2[0]) + abs(l1[1] - l2[1])"
   ]
  },
  {
   "cell_type": "markdown",
   "metadata": {},
   "source": [
    "# Methods"
   ]
  },
  {
   "cell_type": "markdown",
   "metadata": {},
   "source": [
    "The main resource we used for the porject was for the initial GUI demonstrated in the YouTube link above. The link to the GitHub we used for that GUI portion is https://github.com/Code-Bullet/PacmanGame/blob/master/PacmanGame/PacmanGame.pde\n",
    "\n",
    "Although we ended up not using the Processing application or the GUI from it, we learned a lot about the Processing app and how front end programming connects, communicates, and interacts with back-end processes.\n",
    "\n",
    "Kira Miller wrote the implementations for Play.py and Maze.py. In addition to this, Kira also did the introduction to the project and the research above for A\\* search and current research and applications for this AI algorithm. \n",
    "\n",
    "Amber Nolte implemented the Christmas Pacman GUI using the Processing application. In addition to this, she wrote the Ghost.py and Pacman.py classes as well as the summary the classes and original GUI process and implementation. The methods and results were also written by Amber, and the conclusion was a joint effort between the both of them. "
   ]
  },
  {
   "cell_type": "markdown",
   "metadata": {},
   "source": [
    "# Results"
   ]
  },
  {
   "cell_type": "markdown",
   "metadata": {},
   "source": [
    "The results of this study were inconclusive as we were not able to get the full functionality of the A\\* search Pacman program. The various heuristic functions would change the outcome of the algorithm, although analyzing this change would be difficult. In the original GUI implementation, Pacman was user-controlled using the arrow keys. Because of this, changing the heuristic functions may not cause drastic or even accurate changes to the results since having a user controlled portion of the game causes too many variables. \n",
    "\n",
    "For example, as the user plays the game repetitively with each heuristic, they become better at the game and come up with strategies to avoid the ghosts. In order to make the project more objective and leave less to human error, Pacman would ideally not be user controlled and also use the A\\* search algorithm. Instead of searching for something like the ghosts are, Pacman would be avoiding the ghosts and perhaps searching for dots as well. This would also need to incorporate a priority hierarchy if it comes down to getting a dot versus going towards a ghost. With big dots that allow Pacman to eat ghosts, he would potentially pick the big dot over running into a ghost, but choose to run away from a ghost if only a small dot must be sacrificed. While the ghosts are much easier to program as they only have one specific goal, problems happen when the intelligence needs to be refined when dealing with the Pacman character. "
   ]
  },
  {
   "cell_type": "markdown",
   "metadata": {},
   "source": [
    "# Conclusions"
   ]
  },
  {
   "cell_type": "markdown",
   "metadata": {},
   "source": [
    "From this project, we gained experience with front end programming and how the front end GUI connects to the back end implementation. In addition to this, we learned how to apply A\\* search to locations instead of states. This change from A3 taught us to compare dynamic goal states instead of constant states. The object oriented structure challenged our python coding experience as our heavily object oriented projects in the past have been implemented with Java. \n",
    "\n",
    "A few different portions of this project were challenging such as the GUI, planning the structure of the implementation, and combining both the GUI and the implementation. The GUI as stated before was a challenge given that neither of us had experience with front end programming, but altering an existing GUI helped make the transition easier. Once we decided how we wanted to structure our classes, we realized the GUI that had been implemented would be difficult to merge with the new A\\* search implementation. Due to this, we unfortunately could not use the GUI that Amber had been assigned to work on and finished, and we had to start from scratch. The backend portion was then written in Python since we no longer needed to use java to support the GUI. Due to this, the timeline had to change.\n",
    "\n",
    "The GUI was finished but unfortunately the backend code had not been considered or planned so it caused a clash between the GUI and the A\\* search implementation. The challenge of having multiple classes and moving parts between them caused some issues with the Play.py class, so the game does is not fully implemented. The greatest challenge of this project was all the parts of the maze that needed to be updated as the game progressed. The ghost and Pacman classes both need to have up-to-date instances of the maze, as well as the maze having the current location of the ghost and Pacman throughout the game.\n",
    "\n",
    "Overall, this project emphasized for both of us the importance of communication throughout the entire project, and the necessity of figuring out basic structural requirements. Unfortunately, while applying other people's code to an existing project can seem desirable, it can lead to problems if the interaction of your original code with the incorporated is not carefully thought out beforehand. However, we still had a great experience with this project, even if we weren't able to see it to fruition like we hoped we would. Sometimes mistakes can teach you even more than your successes, and the work that we put into this project was not wasted, as we can take the knowledge we have gained in our continued work with Artificial Intelligence."
   ]
  },
  {
   "cell_type": "markdown",
   "metadata": {},
   "source": [
    "## References"
   ]
  },
  {
   "cell_type": "markdown",
   "metadata": {},
   "source": [
    "* Klein, Dan, and Christopher D Manning. “A* Parsing: Fast Exact Viterbi Parse Selection.” Proceedings of HLT-NAACL , vol. 10, no. 7, 15 June 2003, pp. 40–47.\n",
    "* Schrijver, Alexander. “On the History of the Shortest Path Problem.” Documenta Mathematica/Extra Volume ISMP - 2010 Mathematics Subject Classification, 2012, pp. 155–167.\n",
    "* Edelkamp, Stefan and Alberto Lluch Lafuente. “Cost-Algebraic Heuristic Search.” American Association for Artificial Intelligence, 2005, pp. 1362–1367.\n",
    "* Kelly, Ken, and Paul Labute. “The A* Search And Applications To Sequence Alignment.” Chemical Computing Group Inc., 1996, pp. 14–19.\n",
    "\n"
   ]
  },
  {
   "cell_type": "markdown",
   "metadata": {},
   "source": [
    "![alt text](https://media.giphy.com/media/igDCaeXwOslQk/giphy.gif \"Title Text 1\") "
   ]
  },
  {
   "cell_type": "code",
   "execution_count": 23,
   "metadata": {},
   "outputs": [
    {
     "name": "stdout",
     "output_type": "stream",
     "text": [
      "Word count for file Pacman A* Search Algorithm .ipynb is 3714\n"
     ]
    }
   ],
   "source": [
    "import io\n",
    "from IPython.nbformat import current\n",
    "import glob\n",
    "nbfile = glob.glob('Pacman A* Search Algorithm .ipynb')\n",
    "if len(nbfile) > 1:\n",
    "    print('More than one ipynb file. Using the first one.  nbfile=', nbfile)\n",
    "with io.open(nbfile[0], 'r', encoding='utf-8') as f:\n",
    "    nb = current.read(f, 'json')\n",
    "word_count = 0\n",
    "for cell in nb.worksheets[0].cells:\n",
    "    if cell.cell_type == \"markdown\":\n",
    "        word_count += len(cell['source'].replace('#', '').lstrip().split(' '))\n",
    "print('Word count for file', nbfile[0], 'is', word_count)"
   ]
  },
  {
   "cell_type": "markdown",
   "metadata": {},
   "source": [
    "When you check-in your project, you may tar or zip your files together and submit the .tar or .zip file."
   ]
  },
  {
   "cell_type": "code",
   "execution_count": null,
   "metadata": {},
   "outputs": [],
   "source": []
  }
 ],
 "metadata": {
  "kernelspec": {
   "display_name": "Python 3",
   "language": "python",
   "name": "python3"
  },
  "language_info": {
   "codemirror_mode": {
    "name": "ipython",
    "version": 3
   },
   "file_extension": ".py",
   "mimetype": "text/x-python",
   "name": "python",
   "nbconvert_exporter": "python",
   "pygments_lexer": "ipython3",
   "version": "3.6.5"
  }
 },
 "nbformat": 4,
 "nbformat_minor": 1
}
